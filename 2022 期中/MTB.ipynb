{
 "cells": [
  {
   "cell_type": "markdown",
   "metadata": {
    "colab_type": "text",
    "id": "jA6jBcLwC580"
   },
   "source": [
    "2. 应用题\n",
    "   - 使用选择SARSA，期望 SARSA，Q 学习中的一种方法求解小车爬山控制策略 MoutainCar-v0\n",
    "   - 随机数种子为学号后四位\n",
    "   - 自行对超参数寻优\n",
    "   - 训练好后，输出完全利用（epsilon=0）时的回合总奖励（total_reward）（评分比重 60%）\n",
    "   - 请说明选择该方法的原因（评分比重30%）\n",
    "   - 将代码和结果整理为ipynb格式（文件名“MTB.ipynb”），需要包含训练过程中每个回合的总奖励变化曲线（评分比重10%）"
   ]
  },
  {
   "cell_type": "code",
   "execution_count": null,
   "metadata": {
    "colab": {},
    "colab_type": "code",
    "id": "QPrYUlr7C582"
   },
   "outputs": [],
   "source": [
    "%matplotlib inline\n",
    "import numpy as np\n",
    "import matplotlib.pyplot as plt\n",
    "import gym\n",
    "\n",
    "np.random.seed(9999) # 学号后四位"
   ]
  },
  {
   "cell_type": "markdown",
   "metadata": {
    "colab_type": "text",
    "id": "AhqDEMsUC587"
   },
   "source": [
    "### 环境使用"
   ]
  },
  {
   "cell_type": "code",
   "execution_count": null,
   "metadata": {
    "colab": {
     "base_uri": "https://localhost:8080/",
     "height": 176
    },
    "colab_type": "code",
    "id": "lWyjPiyHC588",
    "outputId": "2bc6a5e0-9ed2-4faa-c9ea-9a0f504c127a"
   },
   "outputs": [],
   "source": [
    "env = gym.make('MountainCar-v0')\n",
    "env.seed(0)\n",
    "print('观测空间 = {}'.format(env.observation_space))\n",
    "print('动作空间 = {}'.format(env.action_space))\n",
    "print('位置范围 = {}'.format((env.unwrapped.min_position, \n",
    "        env.unwrapped.max_position)))\n",
    "print('速度范围 = {}'.format((-env.unwrapped.max_speed,\n",
    "        env.unwrapped.max_speed)))\n",
    "print('目标位置 = {}'.format(env.unwrapped.goal_position))"
   ]
  },
  {
   "cell_type": "markdown",
   "metadata": {
    "colab_type": "text",
    "id": "qwJLWgXlC59B"
   },
   "source": [
    "举例控制策略：一直向右"
   ]
  },
  {
   "cell_type": "code",
   "execution_count": null,
   "metadata": {
    "colab": {
     "base_uri": "https://localhost:8080/",
     "height": 283
    },
    "colab_type": "code",
    "id": "kdoLX6PVC59D",
    "outputId": "282ef83e-c8ff-4dd0-bf07-d47cb198ccf6"
   },
   "outputs": [],
   "source": [
    "positions, velocities = [], []\n",
    "observation = env.reset()\n",
    "while True:\n",
    "    positions.append(observation[0])\n",
    "    velocities.append(observation[1])\n",
    "    next_observation, reward, done, _ = env.step(2)\n",
    "    if done:\n",
    "        break\n",
    "    observation = next_observation\n",
    "\n",
    "if next_observation[0] > 0.5:\n",
    "    print('成功到达')\n",
    "else:\n",
    "    print('失败退出')\n",
    "\n",
    "# 绘制位置和速度图像\n",
    "fig, ax = plt.subplots()\n",
    "ax.plot(positions, label='position')\n",
    "ax.plot(velocities, label='velocity')\n",
    "ax.legend()"
   ]
  }
 ],
 "metadata": {
  "colab": {
   "collapsed_sections": [],
   "name": "MountainCar_v0_201901302220.ipynb",
   "provenance": [],
   "version": "0.3.2"
  },
  "kernelspec": {
   "display_name": "Python 3",
   "language": "python",
   "name": "python3"
  },
  "language_info": {
   "codemirror_mode": {
    "name": "ipython",
    "version": 3
   },
   "file_extension": ".py",
   "mimetype": "text/x-python",
   "name": "python",
   "nbconvert_exporter": "python",
   "pygments_lexer": "ipython3",
   "version": "3.9.9"
  }
 },
 "nbformat": 4,
 "nbformat_minor": 1
}
